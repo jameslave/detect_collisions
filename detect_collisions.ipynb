{
 "cells": [
  {
   "cell_type": "code",
   "execution_count": 112,
   "metadata": {},
   "outputs": [],
   "source": [
    "import math\n",
    "import re\n",
    "import pprint\n",
    "\n",
    "pp = pprint.PrettyPrinter(indent=2)"
   ]
  },
  {
   "cell_type": "code",
   "execution_count": 113,
   "metadata": {},
   "outputs": [],
   "source": [
    "particle_radius = 2.5e-6\n",
    "pillar_radius = 2.5e-6\n",
    "pillars_per_row = 10\n",
    "pillar_separation_in_um = 15"
   ]
  },
  {
   "cell_type": "code",
   "execution_count": 114,
   "metadata": {},
   "outputs": [],
   "source": [
    "pillars = []\n",
    "for y in range(0, pillars_per_row * pillar_separation_in_um, pillar_separation_in_um):\n",
    "    for x in range(0, pillars_per_row * pillar_separation_in_um, pillar_separation_in_um):\n",
    "        pillars.append((x * 1e-6, y * 1e-6))"
   ]
  },
  {
   "cell_type": "code",
   "execution_count": 116,
   "metadata": {},
   "outputs": [],
   "source": [
    "particle_trajectories = {}\n",
    "particle_qx = {}\n",
    "particle_qy = {}\n",
    "line_label = ''\n",
    "time_label = ''\n",
    "\n",
    "with open('Untitled2.txt') as f:\n",
    "    for line in f:\n",
    "        if line[0] == '%':\n",
    "            line_label = line\n",
    "            match = re.search('t=(\\d*\\.?\\d+?)', line_label)\n",
    "            if match:\n",
    "                time_label = float(match.group(1))\n",
    "        else:\n",
    "            if re.search('qx', line_label):\n",
    "                particle_qx[time_label] = [float(n) for n in line.split()]\n",
    "            else:\n",
    "                particle_qy[time_label] = [float(n) for n in line.split()]\n",
    "                \n",
    "for key in particle_qx.keys():\n",
    "    particle_trajectories[key] = list(zip(particle_qx[key], particle_qy[key]))"
   ]
  },
  {
   "cell_type": "code",
   "execution_count": 129,
   "metadata": {},
   "outputs": [
    {
     "name": "stdout",
     "output_type": "stream",
     "text": [
      "[ [ (4.201634726553235e-06, 1.6762355610092466e-05),\n",
      "    (0.0, 1.4999999999999999e-05)]]\n"
     ]
    }
   ],
   "source": [
    "collisions = []\n",
    "for particle in particle_trajectories[0.3]:\n",
    "    for pillar in pillars:\n",
    "        distance_between_centers = math.sqrt((particle[0] - pillar[0])**2 + (particle[1] - pillar[1])**2)\n",
    "        if distance_between_centers < (particle_radius + pillar_radius):\n",
    "            collisions.append([particle, pillar])\n",
    "\n",
    "pp.pprint(collisions)"
   ]
  },
  {
   "cell_type": "code",
   "execution_count": null,
   "metadata": {},
   "outputs": [],
   "source": []
  }
 ],
 "metadata": {
  "kernelspec": {
   "display_name": "Python 3",
   "language": "python",
   "name": "python3"
  },
  "language_info": {
   "codemirror_mode": {
    "name": "ipython",
    "version": 3
   },
   "file_extension": ".py",
   "mimetype": "text/x-python",
   "name": "python",
   "nbconvert_exporter": "python",
   "pygments_lexer": "ipython3",
   "version": "3.7.2"
  }
 },
 "nbformat": 4,
 "nbformat_minor": 2
}
